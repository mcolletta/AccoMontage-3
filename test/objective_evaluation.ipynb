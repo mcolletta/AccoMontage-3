{
 "cells": [
  {
   "cell_type": "markdown",
   "metadata": {},
   "source": [
    "## Testing for Lead Sheet to Multi-Track Arrangement"
   ]
  },
  {
   "cell_type": "markdown",
   "metadata": {},
   "source": [
    "#### Loading modules"
   ]
  },
  {
   "cell_type": "code",
   "execution_count": 4,
   "metadata": {},
   "outputs": [],
   "source": [
    "import os\n",
    "os.environ['CUDA_VISIBLE_DEVICES']= '0'\n",
    "os.environ['CUDA_LAUNCH_BLOCKING'] = '1'\n",
    "\n",
    "import numpy as np\n",
    "import scipy\n",
    "import pretty_midi as pyd\n",
    "from tqdm import tqdm\n",
    "import scipy.stats as st\n",
    "import mir_eval\n",
    "import torch\n",
    "\n",
    "import sys\n",
    "sys.path.append('piano_arranger/chord_recognition')\n",
    "from main import transcribe_cb1000_midi\n",
    "from orchestrator.utils import midi2matrix\n",
    "\n",
    "import warnings\n",
    "warnings.filterwarnings(\"ignore\")\n",
    "\n",
    "#The polydis encoder is needed for calculating structure awareness\n",
    "from piano_arranger.models.Poly_Dis import DisentangleVAE\n",
    "polydis_model = DisentangleVAE.init_model()\n",
    "polydis_param_path = \"/data1/zhaojw/data_file_dir/model_master_final.pt\"\n",
    "polydis_model.load_model(polydis_param_path)"
   ]
  },
  {
   "cell_type": "markdown",
   "metadata": {},
   "source": [
    "#### Evaluation Metrics and Functionals"
   ]
  },
  {
   "cell_type": "code",
   "execution_count": 7,
   "metadata": {},
   "outputs": [],
   "source": [
    "\n",
    "ACC = 4\n",
    "DEVICE = 'cuda:0'\n",
    "cos = torch.nn.CosineSimilarity(dim=-1, eps=1e-6)\n",
    "\n",
    "def load_sim_mat(path, melody_id=None, phrase_annotation=None):\n",
    "    multi_track = pyd.PrettyMIDI(path)\n",
    "    beats = multi_track.get_beats()\n",
    "    beats = np.append(beats, beats[-1] + (beats[-1] - beats[-2]))\n",
    "    quantize = scipy.interpolate.interp1d(np.array(range(0, len(beats))) * ACC, beats, kind='linear')\n",
    "    quaver = quantize(np.array(range(0, (len(beats) - 1) * ACC)))\n",
    "    multi_track, program = midi2matrix(multi_track, quaver) #multi_track: (n_track, time, 128)\n",
    "    if melody_id is not None:\n",
    "        if melody_id == 'AMT':\n",
    "            melody_id = np.argmax(program == 1)\n",
    "        multi_track = np.delete(multi_track, melody_id, axis=0)\n",
    "\n",
    "    total_len = sum([int(item[0][1:]) for item in phrase_annotation])\n",
    "    if multi_track.shape[1] < total_len * 16:\n",
    "        pad_len = total_len * 16 - multi_track.shape[1]\n",
    "        multi_track = np.concatenate([multi_track, np.zeros((len(multi_track), pad_len, 128))], axis=1)\n",
    "    multi_track = multi_track[:, :total_len * 16]\n",
    "        \n",
    "    if phrase_annotation is not None:\n",
    "        phrase_split = []\n",
    "        start = 0\n",
    "        for phrase in phrase_annotation:\n",
    "            length = int(phrase[0][1:])\n",
    "            one_phrase = multi_track[:, start*16: (start + length)* 16]\n",
    "            if (length % 2) != 0:\n",
    "                one_phrase = np.concatenate([one_phrase, one_phrase[:, -16:]], axis=1)\n",
    "            phrase_split.append(one_phrase)\n",
    "            start += length\n",
    "    multi_track = np.concatenate(phrase_split, axis=1)\n",
    "    mixture = torch.from_numpy(np.max(multi_track, axis=0)).reshape(-1, 32, 128).to(DEVICE).float()\n",
    "    z_mix = polydis_model.rhy_encoder(mixture).mean\n",
    "    sim_mat = cos(z_mix.unsqueeze(0), z_mix.unsqueeze(1))\n",
    "    return sim_mat\n",
    "\n",
    "def structure_awareness(sim_mat, phrase):\n",
    "    #sim_mat: (num_segment, num_segment)\n",
    "    assert(sim_mat.shape[0]==sim_mat.shape[1])\n",
    "    for i in range(sim_mat.shape[0]):\n",
    "        sim_mat[i, i] = 0\n",
    "    sim_sum = torch.sum(sim_mat).item()\n",
    "    total_num = sim_mat.shape[0] * (sim_mat.shape[0] - 1)\n",
    "    same_type = 0.0\n",
    "    s_sum = 0\n",
    "    for i, (tp_i, start_i, end_i) in enumerate(phrase):\n",
    "        for j, (tp_j, start_j, end_j) in enumerate(phrase):\n",
    "            if (tp_i == tp_j):\n",
    "                if (i == j):\n",
    "                    same_type += torch.sum(sim_mat[start_i:end_i, start_j:end_j]).item() - torch.trace(sim_mat[start_i:end_i, start_j:end_j]).item()\n",
    "                    s_sum += (end_i - start_i) * (end_j - start_j - 1)\n",
    "                else:\n",
    "                    same_type += torch.sum(sim_mat[start_i:end_i, start_j:end_j]).item()\n",
    "                    s_sum += (end_i - start_i) * (end_j - start_j)\n",
    "    if s_sum == 0:\n",
    "        return None\n",
    "    else: \n",
    "        ILS = (same_type / s_sum) / (sim_sum / total_num)\n",
    "        return ILS\n",
    "\n",
    "\n",
    "def load_pitch_hist(path, melody_id=None):\n",
    "    orchestration = pyd.PrettyMIDI(path)\n",
    "    beats = orchestration.get_beats()\n",
    "    beats = np.append(beats, beats[-1] + (beats[-1] - beats[-2]))\n",
    "    quantize = scipy.interpolate.interp1d(np.array(range(0, len(beats))) * ACC, beats, kind='linear')\n",
    "    quaver = quantize(np.array(range(0, (len(beats) - 1) * ACC)))\n",
    "    orchestration, prog = midi2matrix(orchestration, quaver) #orchestration: (n_track, time, 128)\n",
    "    orchestration = orchestration[:, :orchestration.shape[1]//32*32]\n",
    "    if melody_id is not None:\n",
    "        if melody_id == 'AMT':\n",
    "            melody_id = np.argmax(prog == 1)   #for AMT\n",
    "        orchestration = np.delete(orchestration, melody_id, axis=0)\n",
    "\n",
    "    trivial_trakcs = np.nonzero(np.sum(orchestration > 0, axis=(-2, -1)) < 2)[0]\n",
    "    orchestration = np.delete(orchestration, trivial_trakcs, axis=0)\n",
    "    \n",
    "    pitch_hist = np.sum((orchestration[:, :, :120]>0).reshape(len(orchestration), -1, 10, 12), axis=-2)\n",
    "    pitch_hist = np.sum(pitch_hist.reshape(len(orchestration), -1, 16, 12), axis=-2)\n",
    "\n",
    "    pitch_hist_pno_red = np.sum((np.max(orchestration[:, :, :120]>0, axis=0)).reshape(-1, 10, 12), axis=-2)\n",
    "    pitch_hist_pno_red = np.sum(pitch_hist_pno_red.reshape(1, -1, 16, 12), axis=-2)\n",
    "    return pitch_hist, pitch_hist_pno_red\n",
    "\n",
    "\n",
    "def kl_div(his_track, his_mix):\n",
    "    div = st.entropy(pk=his_track, qk=his_mix, axis=-1)\n",
    "\n",
    "    div= np.nanmean(div, axis=-1)\n",
    "    div = np.nanstd(div)\n",
    "    return div\n",
    "\n",
    "\n",
    "def chord_comparator(path, name):\n",
    "    chord_1 = []\n",
    "    chord = transcribe_cb1000_midi(os.path.join(path, 'lead_sheet.mid'), extra_division=1, output_path=None)\n",
    "    INCRE = 60 / pyd.PrettyMIDI(os.path.join(path, 'lead_sheet.mid')).get_tempo_changes()[1][0]\n",
    "    for item in chord:\n",
    "        chord_1 += [item[-1].split('/')[0]]*int(round((item[1]-item[0]) / INCRE))\n",
    "    chord_2 = []\n",
    "    chord = transcribe_cb1000_midi(os.path.join(path, f'{name}.mid'), extra_division=1, output_path=None)\n",
    "    INCRE = 60 / pyd.PrettyMIDI(os.path.join(path, f'{name}.mid')).get_tempo_changes()[1][0]\n",
    "    for item in chord:\n",
    "        chord_2 += [item[-1].split('/')[0]]*int(round((item[1]-item[0]) / INCRE))\n",
    "    if not (len(chord_1) == len(chord_2)):\n",
    "        chord_len = min(len(chord_1), len(chord_2))\n",
    "        chord_1 = chord_1[:chord_len]\n",
    "        chord_2 = chord_2[:chord_len]\n",
    "    result = 0\n",
    "    for i in range(len(chord_1)):\n",
    "        if (mir_eval.chord.encode(chord_1[i])[1] == mir_eval.chord.encode(chord_2[i])[1]).all():\n",
    "            result += 1\n",
    "    result = result / len(chord_1)\n",
    "    return result"
   ]
  },
  {
   "cell_type": "markdown",
   "metadata": {},
   "source": [
    "#### Objective Evaluation"
   ]
  },
  {
   "cell_type": "code",
   "execution_count": 8,
   "metadata": {},
   "outputs": [
    {
     "name": "stderr",
     "output_type": "stream",
     "text": [
      "100%|██████████| 100/100 [02:15<00:00,  1.36s/it]\n",
      "100%|██████████| 100/100 [02:15<00:00,  1.35s/it]\n",
      " 91%|█████████ | 91/100 [02:01<00:11,  1.32s/it]"
     ]
    },
    {
     "name": "stdout",
     "output_type": "stream",
     "text": [
      "An exception occurred: [Errno 2] No such file or directory: 'test/demo_3/068/AMT.mid'\n"
     ]
    },
    {
     "name": "stderr",
     "output_type": "stream",
     "text": [
      "100%|██████████| 100/100 [02:12<00:00,  1.33s/it]"
     ]
    },
    {
     "name": "stdout",
     "output_type": "stream",
     "text": [
      "Ours\t structure=1.51890 + 0.02958\t                    doa=0.29960 + 0.00472\t                    chd_acc=0.56378 + 0.01433\n",
      "AMT\t structure=1.09428 + 0.00949\t                    doa=0.29389 + 0.00642\t                    chd_acc=0.44616 + 0.01260\n",
      "PopMAG\t structure=1.08616 + 0.00829\t                    doa=0.26998 + 0.00669\t                    chd_acc=0.47046 + 0.01271\n",
      "GETMusic\t structure=1.24335 + 0.01722\t                    doa=0.22523 + 0.00691\t                    chd_acc=0.42334 + 0.01194\n"
     ]
    },
    {
     "name": "stderr",
     "output_type": "stream",
     "text": [
      "\n"
     ]
    }
   ],
   "source": [
    "#Load phrase label for each testing piece.\n",
    "#These phrase labels are precomputed by https://github.com/Dsqvival/hierarchical-structure-analysis\n",
    "SONG_ROOT=\"test/test_samples\"\n",
    "phrase_dict = {}\n",
    "for SONG_NAME in os.listdir(SONG_ROOT):\n",
    "    with open(os.path.join(SONG_ROOT, SONG_NAME, 'phrases.txt')) as f:\n",
    "        SEGMENTATION = f.readlines()[0]\n",
    "    phrases = []\n",
    "    lengths = []\n",
    "    current = 0\n",
    "    while SEGMENTATION[current] != '\\n':\n",
    "        if SEGMENTATION[current].isalpha():\n",
    "            j = 1\n",
    "            while not (SEGMENTATION[current + j].isalpha() or SEGMENTATION[current + j] == '\\n'):\n",
    "                j += 1\n",
    "            phrases.append(SEGMENTATION[current: current+j])\n",
    "            lengths.append(int(SEGMENTATION[current+1: current+j]))\n",
    "            current += j\n",
    "    phrase_dict[SONG_NAME] = []\n",
    "    shift = 0\n",
    "    for i in range(len(phrases)):\n",
    "        if (lengths[i] % 2) != 0:\n",
    "            phrase_dict[SONG_NAME].append((phrases[i], (sum(lengths[:i])+shift)//2, (sum(lengths[:i])+lengths[i]+shift+1)//2))\n",
    "            shift += 1\n",
    "        else:\n",
    "            phrase_dict[SONG_NAME].append((phrases[i], (sum(lengths[:i])+shift)//2, (sum(lengths[:i])+lengths[i]+shift)//2))\n",
    "\n",
    "\n",
    "results = {'Ours': {'structure': [], 'doa': [], 'chd_acc': []}, \\\n",
    "           'AMT': {'structure': [], 'doa': [], 'chd_acc': []}, \\\n",
    "           'PopMAG': {'structure': [], 'doa': [], 'chd_acc': []},\\\n",
    "           'GETMusic': {'structure': [], 'doa': [], 'chd_acc': []}\n",
    "           }\n",
    "melody_id_dict = {'Ours':-1, 'AMT':'AMT', 'PopMAG':0, 'GETMusic': -1}\n",
    "for demo in [1, 2, 3]:\n",
    "    demo_root = f\"test/demo_{demo}\"\n",
    "    for song in tqdm(os.listdir(demo_root)):\n",
    "        phrase = phrase_dict[song.split('-')[0]]\n",
    "\n",
    "        for model in ['Ours', 'AMT', 'PopMAG', 'GETMusic']:\n",
    "            try:\n",
    "                histo_orch, histo_red = load_pitch_hist(os.path.join(demo_root, song, f'{model}.mid'), melody_id_dict[model])\n",
    "            except Exception as error:\n",
    "                print(\"An exception occurred:\", error)\n",
    "                results[model]['doa'].append(0)\n",
    "                results[model]['chd_acc'].append(0)\n",
    "                results[model]['structure'].append(0)\n",
    "                continue\n",
    "\n",
    "            results[model]['doa'].append(kl_div(histo_orch, histo_red))\n",
    "            results[model]['chd_acc'].append(chord_comparator(os.path.join(demo_root, song), model))\n",
    "\n",
    "            sim_mat = load_sim_mat(os.path.join(demo_root, song, f'{model}.mid'), melody_id=melody_id_dict[model], phrase_annotation=phrase)\n",
    "            ILS = structure_awareness(sim_mat, phrase)\n",
    "            if ILS is None:\n",
    "                continue\n",
    "            else:\n",
    "                results[model]['structure'].append(ILS)\n",
    "\n",
    "for key in results:\n",
    "    print(f\"{key}\\t structure={np.mean(results[key]['structure']):.5f} + {st.sem(results[key]['structure']):.5f}\\t\\\n",
    "                    doa={np.mean(results[key]['doa']):.5f} + {st.sem(results[key]['doa']):.5f}\\t\\\n",
    "                    chd_acc={np.mean(results[key]['chd_acc']):.5f} + {st.sem(results[key]['chd_acc']):.5f}\")"
   ]
  },
  {
   "cell_type": "markdown",
   "metadata": {},
   "source": [
    "#### Test statistical significnace"
   ]
  },
  {
   "cell_type": "code",
   "execution_count": 8,
   "metadata": {},
   "outputs": [
    {
     "name": "stdout",
     "output_type": "stream",
     "text": [
      "structure awareness\n",
      "WilcoxonResult(statistic=33563.0, pvalue=5.847096715907704e-17)\n",
      "WilcoxonResult(statistic=40949.0, pvalue=4.254598878033501e-42)\n",
      "WilcoxonResult(statistic=33563.0, pvalue=5.847096715907704e-17)\n",
      "WilcoxonResult(statistic=32971.0, pvalue=1.6589070838053046e-15)\n",
      "WilcoxonResult(statistic=22967.0, pvalue=0.1372580691526495)\n",
      "DOA\n",
      "WilcoxonResult(statistic=25472.0, pvalue=0.027019881565803414)\n",
      "WilcoxonResult(statistic=15789.0, pvalue=6.400156258640813e-06)\n",
      "WilcoxonResult(statistic=35436.0, pvalue=6.016202598429237e-18)\n",
      "WilcoxonResult(statistic=17978.0, pvalue=0.0022354550947138473)\n",
      "WilcoxonResult(statistic=30539.0, pvalue=5.915267589054714e-08)\n",
      "Chord Accuracy\n",
      "WilcoxonResult(statistic=35301.0, pvalue=6.195493995048505e-25)\n",
      "WilcoxonResult(statistic=37032.5, pvalue=8.52406928243548e-25)\n",
      "WilcoxonResult(statistic=37420.5, pvalue=1.0560815109318543e-26)\n",
      "WilcoxonResult(statistic=23883.0, pvalue=0.02565685211027289)\n",
      "WilcoxonResult(statistic=24234.5, pvalue=0.0505259320130365)\n"
     ]
    }
   ],
   "source": [
    "print('structure awareness')\n",
    "print(st.wilcoxon(results['Ours']['structure'], results['GETMusic']['structure'], alternative='greater'))\n",
    "print(st.wilcoxon(results['Ours']['structure'], results['PopMAG']['structure'], alternative='greater'))\n",
    "print(st.wilcoxon(results['Ours']['structure'], results['GETMusic']['structure'], alternative='greater'))\n",
    "print(st.wilcoxon(results['GETMusic']['structure'], results['AMT']['structure'], alternative='greater'))\n",
    "print(st.wilcoxon(results['AMT']['structure'], results['PopMAG']['structure'], alternative='greater'))\n",
    "\n",
    "print('DOA')\n",
    "print(st.wilcoxon(results['Ours']['doa'], results['AMT']['doa'], alternative='greater'))\n",
    "print(st.wilcoxon(results['Ours']['doa'], results['PopMAG']['doa']))\n",
    "print(st.wilcoxon(results['Ours']['doa'], results['GETMusic']['doa'], alternative='greater'))\n",
    "print(st.wilcoxon(results['AMT']['doa'], results['PopMAG']['doa']))\n",
    "print(st.wilcoxon(results['PopMAG']['doa'], results['GETMusic']['doa'], alternative='greater'))\n",
    "\n",
    "print('Chord Accuracy')\n",
    "print(st.wilcoxon(results['Ours']['chd_acc'], results['AMT']['chd_acc'], alternative='greater'))\n",
    "print(st.wilcoxon(results['Ours']['chd_acc'], results['PopMAG']['chd_acc'], alternative='greater'))\n",
    "print(st.wilcoxon(results['Ours']['chd_acc'], results['GETMusic']['chd_acc'], alternative='greater'))\n",
    "print(st.wilcoxon(results['PopMAG']['chd_acc'], results['AMT']['chd_acc'], alternative='greater'))\n",
    "print(st.wilcoxon(results['AMT']['chd_acc'], results['GETMusic']['chd_acc'], alternative='greater'))"
   ]
  },
  {
   "cell_type": "markdown",
   "metadata": {},
   "source": [
    "#### Ground-Truth Structure Awareness"
   ]
  },
  {
   "cell_type": "code",
   "execution_count": 8,
   "metadata": {},
   "outputs": [
    {
     "name": "stderr",
     "output_type": "stream",
     "text": [
      "100%|██████████| 857/857 [00:21<00:00, 38.98it/s]"
     ]
    },
    {
     "name": "stdout",
     "output_type": "stream",
     "text": [
      "GT structure=1.97992 + 0.01905\n"
     ]
    },
    {
     "name": "stderr",
     "output_type": "stream",
     "text": [
      "\n"
     ]
    }
   ],
   "source": [
    "GT = []\n",
    "phrase_data_dir = '/data1/zhaojw/POP909/POP909 Phrase Split Data/Phrase Split Data/'    #POP909 with groundtruth phrase label by https://github.com/Dsqvival/hierarchical-structure-analysis\n",
    "for item in tqdm(os.listdir(phrase_data_dir)):\n",
    "    phrase_label = ''\n",
    "    phrase_data = []\n",
    "    phrases = os.listdir(os.path.join(phrase_data_dir, item))\n",
    "    phrases.remove('midi')\n",
    "    phrases.remove('phrase_sections.txt')\n",
    "    phrases.sort(key=lambda x: int(x.split('_')[0]))\n",
    "    for phrase in phrases:\n",
    "        if not '.npz' in phrase:\n",
    "            continue\n",
    "        data = np.load(os.path.join(phrase_data_dir, item, phrase))\n",
    "        data = np.max(np.stack((data['bridge'], data['piano']), axis=-1), axis=-1)\n",
    "\n",
    "        phrase_label += phrase.split('_')[-1].replace('.npz', '')\n",
    "        phrase_data.append(data)\n",
    "    phrase_label += '\\n'\n",
    "\n",
    "    phrases = []\n",
    "    lengths = []\n",
    "    current = 0\n",
    "    while phrase_label[current] != '\\n':\n",
    "        if phrase_label[current].isalpha():\n",
    "            j = 1\n",
    "            while not (phrase_label[current + j].isalpha() or phrase_label[current + j] == '\\n'):\n",
    "                j += 1\n",
    "            phrases.append(phrase_label[current: current+j])\n",
    "            lengths.append(int(phrase_label[current+1: current+j]))\n",
    "            current += j\n",
    "\n",
    "    phrase_dict = []\n",
    "    shift = 0\n",
    "    for i in range(len(phrases)):\n",
    "        if (lengths[i] % 2) != 0:\n",
    "            phrase_dict.append((phrases[i], (sum(lengths[:i])+shift)//2, (sum(lengths[:i])+lengths[i]+shift+1)//2))\n",
    "            shift += 1\n",
    "        else:\n",
    "            phrase_dict.append((phrases[i], (sum(lengths[:i])+shift)//2, (sum(lengths[:i])+lengths[i]+shift)//2))\n",
    "\n",
    "    start = 0\n",
    "    for idx, phrase in enumerate(phrase_dict):\n",
    "        length = int(phrase[0][1:])\n",
    "        if (length % 2) != 0:\n",
    "            phrase_data[idx] = np.concatenate([phrase_data[idx], phrase_data[idx][-16:]], axis=0)\n",
    "        start += length\n",
    "\n",
    "    multi_track = np.concatenate(phrase_data, axis=0)\n",
    "    mixture = torch.from_numpy(multi_track).reshape(-1, 32, 128).to(DEVICE).float()\n",
    "    z_mix = polydis_model.rhy_encoder(mixture).mean\n",
    "    sim_mat = cos(z_mix.unsqueeze(0), z_mix.unsqueeze(1))\n",
    "\n",
    "    ILS = structure_awareness(sim_mat, phrase_dict)\n",
    "    GT.append(ILS)\n",
    "\n",
    "print(f\"GT structure={np.mean(GT):.5f} + {st.sem(np.array(GT)):.5f}\")"
   ]
  },
  {
   "cell_type": "markdown",
   "metadata": {},
   "source": [
    "#### Visualize Structure Awareness Distribution"
   ]
  },
  {
   "cell_type": "code",
   "execution_count": 45,
   "metadata": {},
   "outputs": [
    {
     "data": {
      "image/png": "[encoded data removed]",
      "text/plain": [
       "<Figure size 864x288 with 2 Axes>"
      ]
     },
     "metadata": {
      "needs_background": "light"
     },
     "output_type": "display_data"
    }
   ],
   "source": [
    "import matplotlib.pyplot as plt\n",
    "import numpy as np\n",
    "\n",
    "all_data = [results[key]['structure'] for key in results] + [GT]\n",
    "\n",
    "fig, axs = plt.subplots(nrows=1, ncols=2, figsize=(12, 4))\n",
    "# plot violin plot\n",
    "axs[0].violinplot(all_data,\n",
    "                  showmeans=True,\n",
    "                  showmedians=False)\n",
    "axs[0].set_title('Violin plot')\n",
    "\n",
    "# plot box plot\n",
    "axs[1].boxplot(all_data)\n",
    "axs[1].set_title('Box plot')\n",
    "\n",
    "# adding horizontal grid lines\n",
    "for ax in axs:\n",
    "    ax.yaxis.grid(True)\n",
    "    ax.set_xticks([y + 1 for y in range(len(all_data))],\n",
    "                  labels=['Ours', 'AMT', 'PopMAG', 'GETMusic', 'Ground Truth'])\n",
    "    ax.set_xlabel('Four separate samples')\n",
    "    ax.set_ylabel('Observed values')\n",
    "\n",
    "plt.show()"
   ]
  },
  {
   "cell_type": "markdown",
   "metadata": {},
   "source": [
    "#### Visualize Chord Accuracy Distribution"
   ]
  },
  {
   "cell_type": "code",
   "execution_count": 46,
   "metadata": {},
   "outputs": [
    {
     "data": {
      "image/png": "[encoded data removed]",
      "text/plain": [
       "<Figure size 864x288 with 2 Axes>"
      ]
     },
     "metadata": {
      "needs_background": "light"
     },
     "output_type": "display_data"
    }
   ],
   "source": [
    "import matplotlib.pyplot as plt\n",
    "import numpy as np\n",
    "\n",
    "\n",
    "all_data = [results[key]['chd_acc'] for key in results]\n",
    "\n",
    "fig, axs = plt.subplots(nrows=1, ncols=2, figsize=(12, 4))\n",
    "# plot violin plot\n",
    "axs[0].violinplot(all_data,\n",
    "                  showmeans=True,\n",
    "                  showmedians=False)\n",
    "axs[0].set_title('Violin plot')\n",
    "\n",
    "# plot box plot\n",
    "axs[1].boxplot(all_data)\n",
    "axs[1].set_title('Box plot')\n",
    "\n",
    "# adding horizontal grid lines\n",
    "for ax in axs:\n",
    "    ax.yaxis.grid(True)\n",
    "    ax.set_xticks([y + 1 for y in range(len(all_data))],\n",
    "                  labels=['Ours', 'AMT', 'PopMAG', 'GETMusic'])\n",
    "    ax.set_xlabel('Four separate samples')\n",
    "    ax.set_ylabel('Observed values')\n",
    "\n",
    "plt.show()"
   ]
  },
  {
   "cell_type": "markdown",
   "metadata": {},
   "source": [
    "#### Ground-Truth DOA"
   ]
  },
  {
   "cell_type": "code",
   "execution_count": 3,
   "metadata": {},
   "outputs": [
    {
     "name": "stderr",
     "output_type": "stream",
     "text": [
      "100%|██████████| 151/151 [00:36<00:00,  4.11it/s]"
     ]
    },
    {
     "name": "stdout",
     "output_type": "stream",
     "text": [
      "GT DOA=0.35160 + 0.01118\n"
     ]
    },
    {
     "name": "stderr",
     "output_type": "stream",
     "text": [
      "\n"
     ]
    }
   ],
   "source": [
    "demo_root = \"/data1/zhaojw/Q&A/slakh2100_flac_redux/full_midi/test/\"\n",
    "GT_DOA = []\n",
    "for song in tqdm(os.listdir(demo_root)):\n",
    "    histo_orch, histo_orch_pno_red = load_pitch_hist(os.path.join(demo_root, song, 'all_src.mid'), melody_id=None)\n",
    "    doa = kl_div(histo_orch, histo_orch_pno_red)\n",
    "    if not np.isnan(doa):\n",
    "        GT_DOA.append(doa)\n",
    "\n",
    "print(f\"GT DOA={np.mean(GT_DOA):.5f} + {st.sem(GT_DOA):.5f}\")"
   ]
  },
  {
   "cell_type": "markdown",
   "metadata": {},
   "source": [
    "#### Visualize DOA Distribution"
   ]
  },
  {
   "cell_type": "code",
   "execution_count": 56,
   "metadata": {},
   "outputs": [
    {
     "data": {
      "image/png": "[encoded data removed]",
      "text/plain": [
       "<Figure size 864x288 with 2 Axes>"
      ]
     },
     "metadata": {
      "needs_background": "light"
     },
     "output_type": "display_data"
    }
   ],
   "source": [
    "import matplotlib.pyplot as plt\n",
    "import numpy as np\n",
    "\n",
    "\n",
    "all_data = [results[key]['doa-p'] for key in results] + [GT_DOA]\n",
    "\n",
    "fig, axs = plt.subplots(nrows=1, ncols=2, figsize=(12, 4))\n",
    "# plot violin plot\n",
    "axs[0].violinplot(all_data,\n",
    "                  showmeans=True,\n",
    "                  showmedians=False)\n",
    "axs[0].set_title('Violin plot')\n",
    "\n",
    "# plot box plot\n",
    "axs[1].boxplot(all_data)\n",
    "axs[1].set_title('Box plot')\n",
    "\n",
    "# adding horizontal grid lines\n",
    "for ax in axs:\n",
    "    ax.yaxis.grid(True)\n",
    "    ax.set_xticks([y + 1 for y in range(len(all_data))],\n",
    "                  labels=['Ours', 'AMT', 'PopMAG', 'GETMusic', 'Ground Truth'])\n",
    "    ax.set_xlabel('Four separate samples')\n",
    "    ax.set_ylabel('Observed values')\n",
    "\n",
    "plt.show()"
   ]
  }
 ],
 "metadata": {
  "kernelspec": {
   "display_name": "torch1.10_conda11.3",
   "language": "python",
   "name": "python3"
  },
  "language_info": {
   "codemirror_mode": {
    "name": "ipython",
    "version": 3
   },
   "file_extension": ".py",
   "mimetype": "text/x-python",
   "name": "python",
   "nbconvert_exporter": "python",
   "pygments_lexer": "ipython3",
   "version": "3.8.13"
  },
  "orig_nbformat": 4
 },
 "nbformat": 4,
 "nbformat_minor": 2
}
